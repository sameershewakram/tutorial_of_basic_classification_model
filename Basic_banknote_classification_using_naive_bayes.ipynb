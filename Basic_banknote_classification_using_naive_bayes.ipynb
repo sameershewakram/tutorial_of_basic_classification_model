{
 "cells": [
  {
   "cell_type": "markdown",
   "metadata": {},
   "source": [
    "<h1><center>Simple BankNote Classification using Naive Bayes classifier</center></h1>"
   ]
  },
  {
   "cell_type": "markdown",
   "metadata": {},
   "source": [
    "### About Dataset\n",
    "\n",
    "Data were extracted from images that were taken from genuine and forged banknote-like specimens. For digitization, an industrial camera usually used for print inspection was used. The final images have 400x 400 pixels. Due to the object lens and distance to the investigated object gray-scale pictures with a resolution of about 660 dpi were gained. Wavelet Transform tool were used to extract features from images.\n",
    "\n",
    "#### Attribute Information:\n",
    "\n",
    "1. variance of Wavelet Transformed image (continuous) \n",
    "2. skewness of Wavelet Transformed image (continuous) \n",
    "3. curtosis of Wavelet Transformed image (continuous) \n",
    "4. entropy of image (continuous) \n",
    "5. class (integer) "
   ]
  },
  {
   "cell_type": "markdown",
   "metadata": {},
   "source": [
    "### Import necessary packages"
   ]
  },
  {
   "cell_type": "code",
   "execution_count": 2,
   "metadata": {},
   "outputs": [],
   "source": [
    "from sklearn.naive_bayes import GaussianNB\n",
    "from matplotlib import pyplot as plt\n",
    "from sklearn.model_selection import train_test_split\n",
    "from sklearn.metrics import accuracy_score,classification_report\n",
    "import pandas as pd"
   ]
  },
  {
   "cell_type": "markdown",
   "metadata": {},
   "source": [
    "### Read dataset\n",
    "Mostly we read dataset using pandas, pandas is very good to read and also manipulate dataset of any format like in our example we are reading text file."
   ]
  },
  {
   "cell_type": "code",
   "execution_count": 4,
   "metadata": {},
   "outputs": [
    {
     "data": {
      "text/html": [
       "<div>\n",
       "<style scoped>\n",
       "    .dataframe tbody tr th:only-of-type {\n",
       "        vertical-align: middle;\n",
       "    }\n",
       "\n",
       "    .dataframe tbody tr th {\n",
       "        vertical-align: top;\n",
       "    }\n",
       "\n",
       "    .dataframe thead th {\n",
       "        text-align: right;\n",
       "    }\n",
       "</style>\n",
       "<table border=\"1\" class=\"dataframe\">\n",
       "  <thead>\n",
       "    <tr style=\"text-align: right;\">\n",
       "      <th></th>\n",
       "      <th>variance of Wavelet Transformed image</th>\n",
       "      <th>skewness of Wavelet Transformed image</th>\n",
       "      <th>curtosis of Wavelet Transformed image</th>\n",
       "      <th>entropy of image</th>\n",
       "      <th>class</th>\n",
       "    </tr>\n",
       "  </thead>\n",
       "  <tbody>\n",
       "    <tr>\n",
       "      <th>0</th>\n",
       "      <td>3.62160</td>\n",
       "      <td>8.6661</td>\n",
       "      <td>-2.8073</td>\n",
       "      <td>-0.44699</td>\n",
       "      <td>0</td>\n",
       "    </tr>\n",
       "    <tr>\n",
       "      <th>1</th>\n",
       "      <td>4.54590</td>\n",
       "      <td>8.1674</td>\n",
       "      <td>-2.4586</td>\n",
       "      <td>-1.46210</td>\n",
       "      <td>0</td>\n",
       "    </tr>\n",
       "    <tr>\n",
       "      <th>2</th>\n",
       "      <td>3.86600</td>\n",
       "      <td>-2.6383</td>\n",
       "      <td>1.9242</td>\n",
       "      <td>0.10645</td>\n",
       "      <td>0</td>\n",
       "    </tr>\n",
       "    <tr>\n",
       "      <th>3</th>\n",
       "      <td>3.45660</td>\n",
       "      <td>9.5228</td>\n",
       "      <td>-4.0112</td>\n",
       "      <td>-3.59440</td>\n",
       "      <td>0</td>\n",
       "    </tr>\n",
       "    <tr>\n",
       "      <th>4</th>\n",
       "      <td>0.32924</td>\n",
       "      <td>-4.4552</td>\n",
       "      <td>4.5718</td>\n",
       "      <td>-0.98880</td>\n",
       "      <td>0</td>\n",
       "    </tr>\n",
       "  </tbody>\n",
       "</table>\n",
       "</div>"
      ],
      "text/plain": [
       "    variance of Wavelet Transformed image  \\\n",
       "0                                 3.62160   \n",
       "1                                 4.54590   \n",
       "2                                 3.86600   \n",
       "3                                 3.45660   \n",
       "4                                 0.32924   \n",
       "\n",
       "   skewness of Wavelet Transformed image  \\\n",
       "0                                 8.6661   \n",
       "1                                 8.1674   \n",
       "2                                -2.6383   \n",
       "3                                 9.5228   \n",
       "4                                -4.4552   \n",
       "\n",
       "    curtosis of Wavelet Transformed image   entropy of image   class  \n",
       "0                                 -2.8073           -0.44699       0  \n",
       "1                                 -2.4586           -1.46210       0  \n",
       "2                                  1.9242            0.10645       0  \n",
       "3                                 -4.0112           -3.59440       0  \n",
       "4                                  4.5718           -0.98880       0  "
      ]
     },
     "execution_count": 4,
     "metadata": {},
     "output_type": "execute_result"
    }
   ],
   "source": [
    "df = pd.read_csv('bank_note.txt')\n",
    "df.head()"
   ]
  },
  {
   "cell_type": "markdown",
   "metadata": {},
   "source": [
    "as we analyze the dataset, we came to know that first four columns are our __features__ and the last column represent classes to which we have classify, or another we can say that __class__ column is out target class.\n",
    "\n",
    "Now Let's seperate the columns and put first four columns in __X___ variable and last column in __Y__ "
   ]
  },
  {
   "cell_type": "code",
   "execution_count": 5,
   "metadata": {},
   "outputs": [],
   "source": [
    "X= df.iloc[:,0:4].values\n",
    "Y = df.iloc[:,-1].values"
   ]
  },
  {
   "cell_type": "markdown",
   "metadata": {},
   "source": [
    "Now randomly seperate our dataset using __train_test_split__ library from __sklearn__, sole purpose of the seperation of dataset to test the accuracy after training our model.\n",
    "\n",
    "As you see we use 4 parametes in __train_test_split__, first two parameters are features and target values which we set above in __X___ and __Y___ variable. \n",
    "The third parameter __test_size__ which we defined for how much test samples should be and in our case we define 30% of data will be our test data.\n",
    "The last parameter __random_state__ as the name suggests, is used for initializing the internal random number generator, which will decide the splitting of data into train and test indices in your case, benefit of using this parameter is whenever this command will execute it will split same samples into train and test variable. "
   ]
  },
  {
   "cell_type": "code",
   "execution_count": 8,
   "metadata": {},
   "outputs": [],
   "source": [
    "x_trn, x_tst, y_trn, y_tst = train_test_split(X, Y, test_size=0.3, random_state=42)"
   ]
  },
  {
   "cell_type": "markdown",
   "metadata": {},
   "source": [
    "### Initialize and Train the Model\n",
    "Here we are intializing the model, make object of it and train the model using fit method. __Fit__ method will be provided by model object which is __clf__ here.\n",
    "\n",
    "__fit()__ method takes two parameters one is array of features which is __x_trn__ and other is array of target values which is __x_tst__. "
   ]
  },
  {
   "cell_type": "code",
   "execution_count": 9,
   "metadata": {},
   "outputs": [
    {
     "data": {
      "text/plain": [
       "GaussianNB(priors=None)"
      ]
     },
     "execution_count": 9,
     "metadata": {},
     "output_type": "execute_result"
    }
   ],
   "source": [
    "clf = GaussianNB()\n",
    "clf.fit(x_trn, y_trn)"
   ]
  },
  {
   "cell_type": "markdown",
   "metadata": {},
   "source": [
    "### Prediction\n",
    "Now it's time to predict the outputs, as remeber earlier we split data into train and test, now we will give test feature into predict function and save output into __predict_output__ variable."
   ]
  },
  {
   "cell_type": "code",
   "execution_count": 10,
   "metadata": {},
   "outputs": [],
   "source": [
    "predict_output = clf.predict(x_tst)"
   ]
  },
  {
   "cell_type": "markdown",
   "metadata": {},
   "source": [
    "### Accuracy & Classification report\n",
    "Now check the accuracy by using __accuracy_score__ library from sklearn, we use two parameters in __accuracy_score__ one is __original target values__ from test sample and other is __predict_output__ values to calculate the accuracy.\n",
    "\n",
    "The classification report displays the precision, recall, F1, and support scores for the model.\n",
    "\n",
    "__precision__: Precision is the ability of a classiifer not to label an instance positive that is actually negative. For each class it is defined as as the ratio of true positives to the sum of true and false positives. Said another way, “for all instances classified positive, what percent was correct?”\n",
    "\n",
    "__recall__: Recall is the ability of a classifier to find all positive instances. For each class it is defined as the ratio of true positives to the sum of true positives and false negatives. Said another way, “for all instances that were actually positive, what percent was classified correctly?”\n",
    "\n",
    "__f1-score__: The F1 score is a weighted harmonic mean of precision and recall such that the best score is 1.0 and the worst is 0.0. Generally speaking, F1 scores are lower than accuracy measures as they embed precision and recall into their computation. As a rule of thumb, the weighted average of F1 should be used to compare classifier models, not global accuracy.\n",
    "\n",
    "__support__: Support is the number of actual occurrences of the class in the specified dataset."
   ]
  },
  {
   "cell_type": "code",
   "execution_count": 11,
   "metadata": {},
   "outputs": [
    {
     "name": "stdout",
     "output_type": "stream",
     "text": [
      "Accuracy is 83.74%\n",
      "             precision    recall  f1-score   support\n",
      "\n",
      "          0       0.82      0.90      0.86       229\n",
      "          1       0.86      0.75      0.80       183\n",
      "\n",
      "avg / total       0.84      0.84      0.84       412\n",
      "\n"
     ]
    }
   ],
   "source": [
    "print(\"Accuracy is {0:.2f}%\".format((accuracy_score(y_tst,predict_output)*100)))\n",
    "print(classification_report(y_tst, predict_output))"
   ]
  },
  {
   "cell_type": "markdown",
   "metadata": {},
   "source": [
    "### How to save model\n",
    "\n",
    "We are saving our trained model using __joblib__, because we will later use it during creating the Web API using python and Flask.\n",
    "\n",
    "You have to pass the trained model object as a parameter and also the name of model you are going to save in hard drive as I write below __banknote_trained_model.sav__."
   ]
  },
  {
   "cell_type": "code",
   "execution_count": 13,
   "metadata": {},
   "outputs": [
    {
     "data": {
      "text/plain": [
       "['banknote_trained_model.sav']"
      ]
     },
     "execution_count": 13,
     "metadata": {},
     "output_type": "execute_result"
    }
   ],
   "source": [
    "from sklearn.externals import joblib\n",
    "joblib.dump(clf, 'banknote_trained_model.sav')"
   ]
  },
  {
   "cell_type": "markdown",
   "metadata": {},
   "source": [
    "### Visualization using matplotlib\n",
    "\n",
    "Visualize the results by taking two input features __Variance of Wavelet Transformed image__ and __Variance of Wavelet Transformed image__."
   ]
  },
  {
   "cell_type": "code",
   "execution_count": 12,
   "metadata": {},
   "outputs": [
    {
     "data": {
      "text/plain": [
       "<matplotlib.legend.Legend at 0x7fe484e5bc88>"
      ]
     },
     "execution_count": 12,
     "metadata": {},
     "output_type": "execute_result"
    },
    {
     "data": {
      "image/png": "[encoded data removed]",
      "text/plain": [
       "<Figure size 1080x576 with 1 Axes>"
      ]
     },
     "metadata": {},
     "output_type": "display_data"
    }
   ],
   "source": [
    "plt.figure(figsize=(15,8))\n",
    "plt.scatter(x_tst[predict_output == 0,0], x_tst[predict_output== 0,1], s=50, label='Fake')\n",
    "plt.scatter(x_tst[predict_output== 1,0], x_tst[predict_output == 1, 1], s=50, label='Real')\n",
    "plt.title('BankNote authentication using Naive Bayes Classifier', size=17)\n",
    "plt.xlabel('Variance of Wavelet Transformed image', size=13)\n",
    "plt.ylabel('Variance of Wavelet Transformed image', size=13)\n",
    "plt.legend()"
   ]
  },
  {
   "cell_type": "code",
   "execution_count": null,
   "metadata": {},
   "outputs": [],
   "source": []
  }
 ],
 "metadata": {
  "kernelspec": {
   "display_name": "Python 3",
   "language": "python",
   "name": "python3"
  },
  "language_info": {
   "codemirror_mode": {
    "name": "ipython",
    "version": 3
   },
   "file_extension": ".py",
   "mimetype": "text/x-python",
   "name": "python",
   "nbconvert_exporter": "python",
   "pygments_lexer": "ipython3",
   "version": "3.5.2"
  }
 },
 "nbformat": 4,
 "nbformat_minor": 2
}
